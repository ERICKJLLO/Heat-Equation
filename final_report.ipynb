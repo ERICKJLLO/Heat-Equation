{
 "cells": [
  {
   "cell_type": "markdown",
   "metadata": {},
   "source": [
    "<div align=\"center\">\n",
    "\n",
    "# **Simulación y Paralelización de la Ecuación de Calor en 1D, 2D y 3D usando OpenMP**\n",
    "\n",
    "## Proyecto Final - High Performance Computing\n",
    "\n",
    "<br>\n",
    "\n",
    "#### Jhon Fredy Asprilla Aguilar  <br>\n",
    "#### Juan Diego Gomez Guzman  <br>\n",
    "#### Jhon Erick Jaramillo Restrepo  <br>\n",
    "#### Paula S Meneses Gasca  <br>\n",
    "#### Felix Fabian Prada Moreno  <br>\n",
    "\n",
    "<br><br>\n",
    "\n",
    "### Computación científica\n",
    "### Junio de 2025\n",
    "\n",
    "<br><br>\n",
    "\n",
    "**Universidad De Medellín**  \n",
    "**Asignatura: Computación de Alto Desempeño**\n",
    "\n",
    "</div>\n"
   ]
  },
  {
   "cell_type": "markdown",
   "metadata": {},
   "source": [
    "# Introducción\n",
    "\n",
    "La ecuación de calor es una de las ecuaciones diferenciales parciales más importantes en el modelado de fenómenos de difusión térmica. Esta describe cómo cambia la temperatura en cierta región del espacio a medida que pasa el tiempo. Su solución numérica es fundamental en algunas disciplinas como la física, la ingeniería, y en el ámbito computacional. Cuando se emplean simulaciones de alta resolución, la carga computacional es muy grande, lo que hace que sea necesario el uso de técnicas mejoran el rendimiento de un algoritmo.\n",
    "\n",
    "En este proyecto se presenta una implementación en lenguaje C de la ecuación de calor utilizando el método de diferencias finitas para su resolución numérica. Para mejorar la eficiencia y reducir los tiempos de cómputo, se aplica paralelismo por medio de la biblioteca OpenMPI (Message Passing Interface). OpenMP permite distribuir la carga de trabajo entre múltiples procesos que pueden ejecutarse en diferentes núcleos o incluso en distintas máquinas, comunicándose mediante el paso de mensajes.\n",
    "\n",
    "---"
   ]
  },
  {
   "cell_type": "markdown",
   "metadata": {},
   "source": [
    "# Objetivos\n",
    "\n",
    "- **Objetivo General**: Desarrollar un programa en C++ que simule la ecuación de calor en 1 dimension, 2 dimensiones y 3 dimensiones utilizando el método de diferencias finitas y optimizando su rendimiento mediante la paralelización por medio de OpenMPI.\n",
    "\n",
    "- **Objetivos Específicos**:\n",
    "  - Implementar el método de diferencias finitas para resolver la ecuación de calor.\n",
    "  - Analizar el comportamiento de la solución de la ecuación de calor bajo un esquema paralelo.\n",
    "  - Comparar el rendimiento del código en paralelo con el código secuencial.\n",
    "  - Analizar los resultados obtenidos y su relación con la teoría.\n",
    "  - Evaluar el rendimiento del algoritmo, demostrando cómo el uso de OpenMPI puede optimizar  el tiempo de ejecución en simulaciones de mayor escala como lo es la ecuación de calor.\n",
    "\n",
    "---"
   ]
  },
  {
   "cell_type": "markdown",
   "metadata": {},
   "source": [
    "# Fundamento Teórico - Ecuación de calor \n",
    "La ecuación de calor es una ecuación diferencial en derivadas parciales lineales de segundo grado. \n",
    "Para comprender esto es necesario saber que una **derivada parcial** es la derivada de una función con respecto a una de sus variables, manteniendo las demás constantes. Estas son usadas para entender cómo cambia una función en relación con cada variable independiente y analizar cómo afecta cada una en el resultado de la función. \n",
    "\n",
    "Para representar una derivada parcial se utiliza el símbolo ∂ y un ejemplo claro de este concepto es: \n",
    "\n",
    "\n",
    "- Si se tiene una función es _z = f(x, y)_: \n",
    "\n",
    "Las derivadas parciales son la derivada de _z_ con respecto a _x_ considerando _y_ como constante. \n",
    "$$\n",
    "\\frac{\\partial z}{\\partial x} = \\frac{\\partial f(x,y)}{\\partial x}\n",
    "$$\n",
    "\n",
    "Y la derivada de _z_ con respecto a _y_ considerando _x_ como constante. \n",
    "$$\n",
    "\\frac{\\partial z}{\\partial y} = \\frac{\\partial f(x,y)}{\\partial y}\n",
    "$$\n",
    "\n",
    "Normalmente las ecuaciones diferenciales parciales son fundamentales en la comprensión científica moderna del sonido, el calor, la difusión, la electrostática, el electrodinámica, la termodinámica, la dinámica de fluidos, la elasticidad, la relatividad general y la mecánica cuántica. \n",
    "\n",
    "En este proyecto se trabajará sobre la ecuación de calor, en las tres dimensiones."
   ]
  },
  {
   "cell_type": "markdown",
   "metadata": {},
   "source": [
    "---\n",
    "\n",
    "# Descripción del algoritmo secuencial\n",
    "\n",
    "\n",
    "\n",
    "---\n",
    "\n",
    "# Identificación y justificación de secciones paralelizables\n",
    "\n",
    "--- \n",
    "\n",
    "# Implementación paralela (OpenMP)\n",
    "\n",
    "---\n",
    "\n",
    "# Diseño de pruebas y medición de rendimiento\n",
    "\n",
    "--- \n",
    "\n",
    "# Resultados y análisis comparativo"
   ]
  },
  {
   "cell_type": "markdown",
   "metadata": {},
   "source": [
    "# Conclusiones\n",
    "---"
   ]
  },
  {
   "cell_type": "markdown",
   "metadata": {},
   "source": [
    "# Referencias\n",
    "\n",
    "[1] Introducción a las derivadas parciales (artículo) | Khan Academy. (n.d.). Khan Academy. https://es.khanacademy.org/math/multivariable-calculus/multivariable-derivatives/partial-derivative-and-gradient-articles/a/introduction-to-partial-derivatives\n",
    "\n",
    "[2] Mebrate, B. (2015). Numerical solution of a one dimensional heat equation with Dirichlet boundary conditions. Am. J. Appl. Math, 3(6), 305-311.\n",
    "\n",
    "[3] Dehghan, M. (2007). The one-dimensional heat equation subject to a boundary integral specification. Chaos, Solitons & Fractals, 32(2), 661-675.\n",
    "\n",
    "[4] MateFacil. (2021, November 14). 🔥 ECUACIÓN DE CALOR 🔥EDP Deducción COMPLETA, a partir de la Física (En una dimensión) [Video]. YouTube. https://www.youtube.com/watch?v=adAnuVyT_bc\n",
    "\n",
    "[5] Oscar Antonio Dzul García. (2021, December 4). Diferencias finitas - discretización ecuaciones diferenciales parciales [Video]. YouTube. https://www.youtube.com/watch?v=K-gIHOuRX6U\n",
    "\n",
    "[6] Minzoni, A. (2003). Apuntes de Ecuaciones en Derivadas Parciales. Serie FENOMEC-IIMAS."
   ]
  }
 ],
 "metadata": {
  "language_info": {
   "name": "python"
  }
 },
 "nbformat": 4,
 "nbformat_minor": 2
}
