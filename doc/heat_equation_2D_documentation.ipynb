{
 "cells": [
  {
   "cell_type": "markdown",
   "metadata": {},
   "source": [
    "# Ecuación de Calor 2D\n",
    "\n",
    "La ecuación de calor en dos dimensiones es:\n",
    "\n",
    "\\[\n",
    "\\frac{\\partial u}{\\partial t} = \\alpha \\left( \\frac{\\partial^2 u}{\\partial x^2} + \\frac{\\partial^2 u}{\\partial y^2} \\right)\n",
    "\\]\n",
    "\n",
    "donde:\n",
    "- \\( u(x, y, t) \\): temperatura en la posición \\( (x, y) \\) y tiempo \\( t \\)\n",
    "- \\( \\alpha \\): difusividad térmica (m²/s)\n",
    "\n",
    "## Condiciones de frontera\n",
    "\n",
    "Condiciones de Dirichlet (bordes a 0°C):\n",
    "\n",
    "\\[\n",
    "u(0, y, t) = u(L, y, t) = u(x, 0, t) = u(x, L, t) = 0\n",
    "\\]\n",
    "\n",
    "## Condición inicial\n",
    "\n",
    "Bloque caliente en el centro:\n",
    "\n",
    "\\[\n",
    "u(x, y, 0) = \n",
    "\\begin{cases}\n",
    "100, & x \\in [L/3, 2L/3],\\ y \\in [L/3, 2L/3] \\\\\n",
    "0,   & \\text{en otro caso}\n",
    "\\end{cases}\n",
    "\\]\n",
    "\n",
    "## Discretización numérica\n",
    "\n",
    "Diferencias finitas explícitas:\n",
    "\n",
    "- Mallado: \\( x_i = i \\Delta x \\), \\( y_j = j \\Delta y \\)\n",
    "- Tiempo: \\( t^n = n \\Delta t \\)\n",
    "\n",
    "La actualización es:\n",
    "\n",
    "\\[\n",
    "u_{i,j}^{n+1} = u_{i,j}^n + \\lambda \\left( u_{i-1,j}^n + u_{i+1,j}^n + u_{i,j-1}^n + u_{i,j+1}^n - 4u_{i,j}^n \\right)\n",
    "\\]\n",
    "donde \\( \\lambda = \\alpha \\frac{\\Delta t}{(\\Delta x)^2} \\).\n",
    "\n",
    "Condición de estabilidad: \\( \\Delta t \\leq \\frac{(\\Delta x)^2}{4\\alpha} \\).\n",
    "\n",
    "---\n"
   ]
  }
 ],
 "metadata": {
  "language_info": {
   "name": "python"
  }
 },
 "nbformat": 4,
 "nbformat_minor": 2
}
