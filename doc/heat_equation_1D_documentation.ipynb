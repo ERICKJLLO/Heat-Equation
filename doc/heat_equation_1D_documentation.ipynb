{
 "cells": [
  {
   "cell_type": "markdown",
   "id": "fb5cf300",
   "metadata": {},
   "source": [
    "# Ecuación de Calor 1D\n",
    "\n",
    "La ecuación de calor en una dimensión describe la evolución temporal de la temperatura \\( u(x, t) \\) en una barra de longitud \\( L \\):\n",
    "\n",
    "\\[\n",
    "\\frac{\\partial u}{\\partial t} = \\alpha \\frac{\\partial^2 u}{\\partial x^2}\n",
    "\\]\n",
    "\n",
    "donde:\n",
    "- \\( u(x, t) \\): temperatura en la posición \\( x \\) y tiempo \\( t \\)\n",
    "- \\( \\alpha \\): difusividad térmica (m²/s)\n",
    "\n",
    "## Condiciones de frontera\n",
    "\n",
    "Se usan condiciones de frontera de Dirichlet (temperatura fija en los extremos):\n",
    "\n",
    "\\[\n",
    "u(0, t) = 0, \\quad u(L, t) = 0\n",
    "\\]\n",
    "\n",
    "## Condición inicial\n",
    "\n",
    "La barra inicia fría salvo un bloque central caliente:\n",
    "\n",
    "\\[\n",
    "u(x, 0) = \n",
    "\\begin{cases}\n",
    "100, & x \\in [L/3, 2L/3] \\\\\n",
    "0,   & \\text{en otro caso}\n",
    "\\end{cases}\n",
    "\\]\n",
    "\n",
    "## Discretización numérica\n",
    "\n",
    "Se utiliza el método de diferencias finitas explícito:\n",
    "\n",
    "- Espacio: \\( x_i = i \\cdot \\Delta x \\), \\( i = 0, 1, ..., N-1 \\)\n",
    "- Tiempo: \\( t^n = n \\cdot \\Delta t \\)\n",
    "\n",
    "La actualización es:\n",
    "\n",
    "\\[\n",
    "u_i^{n+1} = u_i^n + \\lambda (u_{i-1}^n - 2u_i^n + u_{i+1}^n)\n",
    "\\]\n",
    "donde \\( \\lambda = \\alpha \\frac{\\Delta t}{(\\Delta x)^2} \\).\n",
    "\n",
    "La condición de estabilidad es \\( \\Delta t \\leq \\frac{(\\Delta x)^2}{2\\alpha} \\).\n",
    "\n",
    "---\n",
    "\n"
   ]
  }
 ],
 "metadata": {
  "language_info": {
   "name": "python"
  }
 },
 "nbformat": 4,
 "nbformat_minor": 5
}
